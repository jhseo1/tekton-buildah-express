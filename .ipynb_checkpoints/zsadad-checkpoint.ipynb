{
 "cells": [
  {
   "cell_type": "code",
   "execution_count": 2,
   "id": "a20f2148-77eb-4664-9f80-b79d22fab2eb",
   "metadata": {
    "tags": []
   },
   "outputs": [],
   "source": [
    "a = 1"
   ]
  },
  {
   "cell_type": "code",
   "execution_count": 3,
   "id": "cb362067-bded-4340-9fff-c20294ea2e46",
   "metadata": {
    "tags": []
   },
   "outputs": [],
   "source": [
    "a = 5 + 1"
   ]
  },
  {
   "cell_type": "code",
   "execution_count": 4,
   "id": "031a1ed8-d805-4823-ab59-fad48d468b24",
   "metadata": {
    "tags": []
   },
   "outputs": [
    {
     "data": {
      "text/plain": [
       "6"
      ]
     },
     "execution_count": 4,
     "metadata": {},
     "output_type": "execute_result"
    }
   ],
   "source": [
    "a"
   ]
  },
  {
   "cell_type": "code",
   "execution_count": 5,
   "id": "fdca267e-d21a-4ef9-be58-a1422d022346",
   "metadata": {
    "tags": []
   },
   "outputs": [],
   "source": [
    "b = 2"
   ]
  },
  {
   "cell_type": "code",
   "execution_count": 6,
   "id": "e4224434-8145-473a-9f26-12341c7cc252",
   "metadata": {
    "tags": []
   },
   "outputs": [
    {
     "data": {
      "text/plain": [
       "8"
      ]
     },
     "execution_count": 6,
     "metadata": {},
     "output_type": "execute_result"
    }
   ],
   "source": [
    "a + b "
   ]
  },
  {
   "cell_type": "code",
   "execution_count": 7,
   "id": "0d796361-61c4-460f-8651-c1c8360a5ec0",
   "metadata": {
    "tags": []
   },
   "outputs": [],
   "source": [
    "def func(p1, p2):\n",
    "    s1 = p1 + p2\n",
    "    return s1"
   ]
  },
  {
   "cell_type": "code",
   "execution_count": 8,
   "id": "d9c8d851-7316-4b62-8c13-a2e88db2b5e8",
   "metadata": {
    "tags": []
   },
   "outputs": [
    {
     "data": {
      "text/plain": [
       "10"
      ]
     },
     "execution_count": 8,
     "metadata": {},
     "output_type": "execute_result"
    }
   ],
   "source": [
    "func(5,5)"
   ]
  },
  {
   "cell_type": "code",
   "execution_count": 9,
   "id": "b7e60711-9fdc-4647-892d-63b00124a65a",
   "metadata": {
    "tags": []
   },
   "outputs": [
    {
     "ename": "NameError",
     "evalue": "name 'ewrwerewrewfrwrwrwrrewrwr' is not defined",
     "output_type": "error",
     "traceback": [
      "\u001b[0;31m---------------------------------------------------------------------------\u001b[0m",
      "\u001b[0;31mNameError\u001b[0m                                 Traceback (most recent call last)",
      "Cell \u001b[0;32mIn[9], line 1\u001b[0m\n\u001b[0;32m----> 1\u001b[0m \u001b[43mewrwerewrewfrwrwrwrrewrwr\u001b[49m\n",
      "\u001b[0;31mNameError\u001b[0m: name 'ewrwerewrewfrwrwrwrrewrwr' is not defined"
     ]
    }
   ],
   "source": [
    "sss"
   ]
  },
  {
   "cell_type": "code",
   "execution_count": 10,
   "id": "5ee583af-80c3-496c-a2b6-10f4e56aaf0d",
   "metadata": {
    "tags": []
   },
   "outputs": [
    {
     "ename": "NameError",
     "evalue": "name 'sdsada' is not defined",
     "output_type": "error",
     "traceback": [
      "\u001b[0;31m---------------------------------------------------------------------------\u001b[0m",
      "\u001b[0;31mNameError\u001b[0m                                 Traceback (most recent call last)",
      "Cell \u001b[0;32mIn[10], line 1\u001b[0m\n\u001b[0;32m----> 1\u001b[0m \u001b[43msdsada\u001b[49m\n",
      "\u001b[0;31mNameError\u001b[0m: name 'sdsada' is not defined"
     ]
    }
   ],
   "source": [
    "\n",
    "fsfs"
   ]
  },
  {
   "cell_type": "code",
   "execution_count": 11,
   "id": "15c6151c-055a-4e79-a94b-c8363b7fa91a",
   "metadata": {
    "tags": []
   },
   "outputs": [
    {
     "data": {
      "text/plain": [
       "1"
      ]
     },
     "execution_count": 11,
     "metadata": {},
     "output_type": "execute_result"
    }
   ],
   "source": [
    "1"
   ]
  },
  {
   "cell_type": "code",
   "execution_count": 12,
   "id": "98b158f1-fad4-43d1-a2f8-5106dd25c37f",
   "metadata": {
    "tags": []
   },
   "outputs": [
    {
     "data": {
      "text/plain": [
       "6"
      ]
     },
     "execution_count": 12,
     "metadata": {},
     "output_type": "execute_result"
    }
   ],
   "source": [
    "1+5"
   ]
  },
  {
   "cell_type": "code",
   "execution_count": 13,
   "id": "7abf1752-7f0c-4121-a42c-9752a0aea7e6",
   "metadata": {
    "tags": []
   },
   "outputs": [],
   "source": [
    "a=5"
   ]
  },
  {
   "cell_type": "code",
   "execution_count": 15,
   "id": "12368483-21b9-40ee-b999-3a41cb8e4449",
   "metadata": {
    "tags": []
   },
   "outputs": [
    {
     "data": {
      "text/plain": [
       "30"
      ]
     },
     "execution_count": 15,
     "metadata": {},
     "output_type": "execute_result"
    }
   ],
   "source": [
    "func(10,20)"
   ]
  },
  {
   "cell_type": "code",
   "execution_count": null,
   "id": "3d923d6c-b393-426e-b8aa-583b2a75b4df",
   "metadata": {},
   "outputs": [],
   "source": []
  }
 ],
 "metadata": {
  "kernelspec": {
   "display_name": "Python 3 (ipykernel)",
   "language": "python",
   "name": "python3"
  },
  "language_info": {
   "codemirror_mode": {
    "name": "ipython",
    "version": 3
   },
   "file_extension": ".py",
   "mimetype": "text/x-python",
   "name": "python",
   "nbconvert_exporter": "python",
   "pygments_lexer": "ipython3",
   "version": "3.10.10"
  }
 },
 "nbformat": 4,
 "nbformat_minor": 5
}
