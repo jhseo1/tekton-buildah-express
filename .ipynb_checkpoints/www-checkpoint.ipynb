{
 "cells": [
  {
   "cell_type": "code",
   "execution_count": 1,
   "id": "4990c2bd-22be-4d05-850a-b46b3fb933c8",
   "metadata": {
    "tags": []
   },
   "outputs": [],
   "source": [
    "a = 1"
   ]
  },
  {
   "cell_type": "code",
   "execution_count": 3,
   "id": "7833d7d5-dd56-4ff8-a60a-0d0d9c65d487",
   "metadata": {
    "tags": []
   },
   "outputs": [],
   "source": [
    "def func(a, b, c):\n",
    "    s1 = a + b + c \n",
    "    return s1"
   ]
  },
  {
   "cell_type": "code",
   "execution_count": 4,
   "id": "a6c2c0ad-c5a7-44dc-9976-334776f504b0",
   "metadata": {
    "tags": []
   },
   "outputs": [
    {
     "data": {
      "text/plain": [
       "56"
      ]
     },
     "execution_count": 4,
     "metadata": {},
     "output_type": "execute_result"
    }
   ],
   "source": [
    "func(10,12,34)"
   ]
  },
  {
   "cell_type": "code",
   "execution_count": 5,
   "id": "b99b90d4-72c4-48c1-bea3-be178acf240b",
   "metadata": {
    "tags": []
   },
   "outputs": [
    {
     "data": {
      "text/plain": [
       "40"
      ]
     },
     "execution_count": 5,
     "metadata": {},
     "output_type": "execute_result"
    }
   ],
   "source": [
    "func(12,13,15)"
   ]
  },
  {
   "cell_type": "code",
   "execution_count": 6,
   "id": "d12b76c6-0119-4990-a232-d145f17985ca",
   "metadata": {
    "tags": []
   },
   "outputs": [
    {
     "data": {
      "text/plain": [
       "-19695"
      ]
     },
     "execution_count": 6,
     "metadata": {},
     "output_type": "execute_result"
    }
   ],
   "source": [
    "func(205,3342,-23242)"
   ]
  },
  {
   "cell_type": "code",
   "execution_count": 7,
   "id": "eca1de7b-3273-4237-ab2f-07a966cdc0f8",
   "metadata": {
    "tags": []
   },
   "outputs": [
    {
     "data": {
      "text/plain": [
       "210496"
      ]
     },
     "execution_count": 7,
     "metadata": {},
     "output_type": "execute_result"
    }
   ],
   "source": [
    "func(205242, 3133, 2121)"
   ]
  },
  {
   "cell_type": "code",
   "execution_count": null,
   "id": "a242aaa5-7d76-42cd-bbce-aca3a3e455ec",
   "metadata": {},
   "outputs": [],
   "source": []
  }
 ],
 "metadata": {
  "kernelspec": {
   "display_name": "Python 3 (ipykernel)",
   "language": "python",
   "name": "python3"
  },
  "language_info": {
   "codemirror_mode": {
    "name": "ipython",
    "version": 3
   },
   "file_extension": ".py",
   "mimetype": "text/x-python",
   "name": "python",
   "nbconvert_exporter": "python",
   "pygments_lexer": "ipython3",
   "version": "3.10.10"
  }
 },
 "nbformat": 4,
 "nbformat_minor": 5
}
