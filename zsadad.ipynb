{
 "cells": [
  {
   "cell_type": "code",
   "execution_count": 2,
   "id": "a20f2148-77eb-4664-9f80-b79d22fab2eb",
   "metadata": {
    "tags": []
   },
   "outputs": [],
   "source": [
    "a = 1"
   ]
  },
  {
   "cell_type": "code",
   "execution_count": 3,
   "id": "cb362067-bded-4340-9fff-c20294ea2e46",
   "metadata": {
    "tags": []
   },
   "outputs": [],
   "source": [
    "a = 5 + 1"
   ]
  },
  {
   "cell_type": "code",
   "execution_count": 4,
   "id": "031a1ed8-d805-4823-ab59-fad48d468b24",
   "metadata": {
    "tags": []
   },
   "outputs": [
    {
     "data": {
      "text/plain": [
       "6"
      ]
     },
     "execution_count": 4,
     "metadata": {},
     "output_type": "execute_result"
    }
   ],
   "source": [
    "a"
   ]
  },
  {
   "cell_type": "code",
   "execution_count": null,
   "id": "fdca267e-d21a-4ef9-be58-a1422d022346",
   "metadata": {},
   "outputs": [],
   "source": []
  }
 ],
 "metadata": {
  "kernelspec": {
   "display_name": "Python 3 (ipykernel)",
   "language": "python",
   "name": "python3"
  },
  "language_info": {
   "codemirror_mode": {
    "name": "ipython",
    "version": 3
   },
   "file_extension": ".py",
   "mimetype": "text/x-python",
   "name": "python",
   "nbconvert_exporter": "python",
   "pygments_lexer": "ipython3",
   "version": "3.10.10"
  }
 },
 "nbformat": 4,
 "nbformat_minor": 5
}
