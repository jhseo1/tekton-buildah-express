{
 "cells": [
  {
   "cell_type": "code",
   "execution_count": 1,
   "id": "aa112911-b346-4d95-bdad-74c4789172b8",
   "metadata": {
    "tags": []
   },
   "outputs": [],
   "source": [
    "a = 1"
   ]
  },
  {
   "cell_type": "code",
   "execution_count": 2,
   "id": "ea9c809f-8491-4252-a39f-ce2d8bb8a67f",
   "metadata": {
    "tags": []
   },
   "outputs": [],
   "source": [
    "def func(p1, p2):\n",
    "    s1 = p1+p2\n",
    "    return s1"
   ]
  },
  {
   "cell_type": "code",
   "execution_count": 3,
   "id": "c3ab736a-1cd2-4da1-8be4-32af8ac6065b",
   "metadata": {
    "tags": []
   },
   "outputs": [
    {
     "data": {
      "text/plain": [
       "25364656"
      ]
     },
     "execution_count": 3,
     "metadata": {},
     "output_type": "execute_result"
    }
   ],
   "source": [
    "func(2132345,23232311)"
   ]
  },
  {
   "cell_type": "code",
   "execution_count": null,
   "id": "7b2e9d9f-fc72-48f1-bf70-32f2148c396e",
   "metadata": {},
   "outputs": [],
   "source": []
  }
 ],
 "metadata": {
  "kernelspec": {
   "display_name": "Python 3 (ipykernel)",
   "language": "python",
   "name": "python3"
  },
  "language_info": {
   "codemirror_mode": {
    "name": "ipython",
    "version": 3
   },
   "file_extension": ".py",
   "mimetype": "text/x-python",
   "name": "python",
   "nbconvert_exporter": "python",
   "pygments_lexer": "ipython3",
   "version": "3.10.10"
  }
 },
 "nbformat": 4,
 "nbformat_minor": 5
}
