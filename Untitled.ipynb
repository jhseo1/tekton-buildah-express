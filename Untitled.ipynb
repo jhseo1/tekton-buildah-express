{
 "cells": [
  {
   "cell_type": "code",
   "execution_count": 1,
   "id": "4990c2bd-22be-4d05-850a-b46b3fb933c8",
   "metadata": {
    "tags": []
   },
   "outputs": [],
   "source": [
    "a = 1"
   ]
  },
  {
   "cell_type": "code",
   "execution_count": 3,
   "id": "7833d7d5-dd56-4ff8-a60a-0d0d9c65d487",
   "metadata": {
    "tags": []
   },
   "outputs": [],
   "source": [
    "def func(a, b, c):\n",
    "    s1 = a + b + c \n",
    "    return s1"
   ]
  },
  {
   "cell_type": "code",
   "execution_count": null,
   "id": "a6c2c0ad-c5a7-44dc-9976-334776f504b0",
   "metadata": {},
   "outputs": [],
   "source": [
    "func(10,12,34)"
   ]
  }
 ],
 "metadata": {
  "kernelspec": {
   "display_name": "Python 3 (ipykernel)",
   "language": "python",
   "name": "python3"
  },
  "language_info": {
   "codemirror_mode": {
    "name": "ipython",
    "version": 3
   },
   "file_extension": ".py",
   "mimetype": "text/x-python",
   "name": "python",
   "nbconvert_exporter": "python",
   "pygments_lexer": "ipython3",
   "version": "3.10.10"
  }
 },
 "nbformat": 4,
 "nbformat_minor": 5
}
